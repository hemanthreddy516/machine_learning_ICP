{
 "cells": [
  {
   "cell_type": "markdown",
   "metadata": {},
   "source": [
    "Question 1\n",
    "* The following is a list of 10 students ages:\n",
    "* ages = [19, 22, 19, 24, 20, 25, 26, 24, 25, 24]\n",
    "*  Sort the list and find the min and max age\n",
    "*  Add the min age and the max age again to the list\n",
    "*  Find the median age (one middle item or two middle items divided by two)\n",
    "*  Find the average age (sum of all items divided by their number)\n",
    "*  Find the range of the ages (max minus min)"
   ]
  },
  {
   "cell_type": "code",
   "execution_count": 3,
   "metadata": {},
   "outputs": [
    {
     "name": "stdout",
     "output_type": "stream",
     "text": [
      "[19, 19, 20, 22, 24, 24, 24, 25, 25, 26]\n",
      "min age :  19\n",
      "max age :  26\n",
      "Medium :  24.0\n",
      "Average : 22.8\n",
      "Range :  7\n"
     ]
    }
   ],
   "source": [
    "ages = [19, 22, 19, 24, 20, 25, 26, 24, 25, 24]\n",
    "sorted_ages = sorted(ages)\n",
    "print(sorted_ages)\n",
    "print(\"min age : \",sorted_ages[0])\n",
    "print(\"max age : \",sorted_ages[-1])\n",
    "\n",
    "middle1 = sorted_ages[len(sorted_ages) // 2 - 1]\n",
    "middle2 = sorted_ages[len(sorted_ages) // 2]\n",
    "median = (middle1 + middle2) / 2\n",
    "print(\"Medium : \",median)\n",
    "\n",
    "average_age = sum(ages) / len(ages)\n",
    "print(\"Average :\",average_age)\n",
    "\n",
    "avg = sorted_ages[-1] - sorted_ages[0]\n",
    "print(\"Range : \",avg)"
   ]
  },
  {
   "cell_type": "markdown",
   "metadata": {},
   "source": []
  },
  {
   "cell_type": "markdown",
   "metadata": {},
   "source": [
    "Question 2\n",
    "* Create an empty dictionary called dog\n",
    "* Add name, color, breed, legs, age to the dog dictionary\n",
    "* Create a student dictionary and add first_name, last_name, gender, age, marital status,\n",
    "skills, country, city and address as keys for the dictionary\n",
    "* Get the length of the student dictionary\n",
    "* Get the value of skills and check the data type, it should be a list\n",
    "* Modify the skills values by adding one or two skills\n",
    "* Get the dictionary keys as a list\n",
    "* Get the dictionary values as a list"
   ]
  },
  {
   "cell_type": "markdown",
   "metadata": {},
   "source": [
    "dog = {}\n"
   ]
  }
 ],
 "metadata": {
  "kernelspec": {
   "display_name": "Python 3",
   "language": "python",
   "name": "python3"
  },
  "language_info": {
   "codemirror_mode": {
    "name": "ipython",
    "version": 3
   },
   "file_extension": ".py",
   "mimetype": "text/x-python",
   "name": "python",
   "nbconvert_exporter": "python",
   "pygments_lexer": "ipython3",
   "version": "3.8.19"
  }
 },
 "nbformat": 4,
 "nbformat_minor": 2
}
