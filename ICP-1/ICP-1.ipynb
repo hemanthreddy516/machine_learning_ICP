{
 "cells": [
  {
   "cell_type": "markdown",
   "metadata": {},
   "source": [
    "Question 1\n",
    "* The following is a list of 10 students ages:\n",
    "* ages = [19, 22, 19, 24, 20, 25, 26, 24, 25, 24]\n",
    "*  Sort the list and find the min and max age\n",
    "*  Add the min age and the max age again to the list\n",
    "*  Find the median age (one middle item or two middle items divided by two)\n",
    "*  Find the average age (sum of all items divided by their number)\n",
    "*  Find the range of the ages (max minus min)"
   ]
  },
  {
   "cell_type": "code",
   "execution_count": 3,
   "metadata": {},
   "outputs": [
    {
     "name": "stdout",
     "output_type": "stream",
     "text": [
      "[19, 19, 20, 22, 24, 24, 24, 25, 25, 26]\n",
      "min age :  19\n",
      "max age :  26\n",
      "Medium :  24.0\n",
      "Average : 22.8\n",
      "Range :  7\n"
     ]
    }
   ],
   "source": [
    "ages = [19, 22, 19, 24, 20, 25, 26, 24, 25, 24]\n",
    "sorted_ages = sorted(ages)\n",
    "print(sorted_ages)\n",
    "print(\"min age : \",sorted_ages[0])\n",
    "print(\"max age : \",sorted_ages[-1])\n",
    "\n",
    "middle1 = sorted_ages[len(sorted_ages) // 2 - 1]\n",
    "middle2 = sorted_ages[len(sorted_ages) // 2]\n",
    "median = (middle1 + middle2) / 2\n",
    "print(\"Medium : \",median)\n",
    "\n",
    "average_age = sum(ages) / len(ages)\n",
    "print(\"Average :\",average_age)\n",
    "\n",
    "avg = sorted_ages[-1] - sorted_ages[0]\n",
    "print(\"Range : \",avg)"
   ]
  },
  {
   "cell_type": "markdown",
   "metadata": {},
   "source": []
  },
  {
   "cell_type": "markdown",
   "metadata": {},
   "source": [
    "Question 2\n",
    "* Create an empty dictionary called dog\n",
    "* Add name, color, breed, legs, age to the dog dictionary\n",
    "* Create a student dictionary and add first_name, last_name, gender, age, marital status,\n",
    "skills, country, city and address as keys for the dictionary\n",
    "* Get the length of the student dictionary\n",
    "* Get the value of skills and check the data type, it should be a list\n",
    "* Modify the skills values by adding one or two skills\n",
    "* Get the dictionary keys as a list\n",
    "* Get the dictionary values as a list"
   ]
  },
  {
   "cell_type": "code",
   "execution_count": 1,
   "metadata": {},
   "outputs": [
    {
     "name": "stdout",
     "output_type": "stream",
     "text": [
      "Dog dictionary: {'name': 'Fido', 'color': 'Brown', 'breed': 'Labrador', 'legs': 4, 'age': 3}\n",
      "Student dictionary: {'first_name': 'John', 'last_name': 'Doe', 'gender': 'Male', 'age': 25, 'marital_status': 'Single', 'skills': ['Python', 'JavaScript', 'HTML', 'CSS'], 'country': 'USA', 'city': 'New York', 'address': '123 Main St'}\n",
      "Length of student dictionary: 9\n",
      "Data type of skills value: <class 'list'>\n",
      "Modified skills value: ['Python', 'JavaScript', 'HTML', 'CSS']\n",
      "Keys of the student dictionary: ['first_name', 'last_name', 'gender', 'age', 'marital_status', 'skills', 'country', 'city', 'address']\n",
      "Values of the student dictionary: ['John', 'Doe', 'Male', 25, 'Single', ['Python', 'JavaScript', 'HTML', 'CSS'], 'USA', 'New York', '123 Main St']\n"
     ]
    }
   ],
   "source": [
    "dog = {}\n",
    "\n",
    "# Add name, color, breed, legs, age to the dog dictionary\n",
    "dog['name'] = 'Fido'\n",
    "dog['color'] = 'Brown'\n",
    "dog['breed'] = 'Labrador'\n",
    "dog['legs'] = 4\n",
    "dog['age'] = 3\n",
    "\n",
    "# Create a student dictionary\n",
    "student = {\n",
    "    'first_name': 'John',\n",
    "    'last_name': 'Doe',\n",
    "    'gender': 'Male',\n",
    "    'age': 25,\n",
    "    'marital_status': 'Single',\n",
    "    'skills': ['Python', 'JavaScript'],\n",
    "    'country': 'USA',\n",
    "    'city': 'New York',\n",
    "    'address': '123 Main St'\n",
    "}\n",
    "\n",
    "# Get the length of the student dictionary\n",
    "student_length = len(student)\n",
    "\n",
    "# Get the value of skills and check the data type\n",
    "skills_value = student['skills']\n",
    "skills_data_type = type(skills_value)\n",
    "\n",
    "# Modify the skills values by adding one or two skills\n",
    "skills_value.extend(['HTML', 'CSS'])\n",
    "\n",
    "# Get the dictionary keys as a list\n",
    "keys_list = list(student.keys())\n",
    "\n",
    "# Get the dictionary values as a list\n",
    "values_list = list(student.values())\n",
    "\n",
    "# Print results\n",
    "print(\"Dog dictionary:\", dog)\n",
    "print(\"Student dictionary:\", student)\n",
    "print(\"Length of student dictionary:\", student_length)\n",
    "print(\"Data type of skills value:\", skills_data_type)\n",
    "print(\"Modified skills value:\", skills_value)\n",
    "print(\"Keys of the student dictionary:\", keys_list)\n",
    "print(\"Values of the student dictionary:\", values_list)"
   ]
  },
  {
   "cell_type": "markdown",
   "metadata": {},
   "source": []
  },
  {
   "cell_type": "markdown",
   "metadata": {},
   "source": [
    "### #3 Create a tuple containing names of your sisters and your brothers (imaginary siblings are\n",
    "fine)\n",
    "*  Join brothers and sisters tuples and assign it to siblings\n",
    "*  How many siblings do you have?\n",
    "* Modify the siblings tuple and add the name of your father and mother and assign it to\n",
    "family_members"
   ]
  },
  {
   "cell_type": "markdown",
   "metadata": {},
   "source": []
  },
  {
   "cell_type": "code",
   "execution_count": 2,
   "metadata": {},
   "outputs": [
    {
     "name": "stdout",
     "output_type": "stream",
     "text": [
      "Siblings: ('Alice', 'Emily', 'Grace', 'Jack', 'William', 'Henry')\n",
      "Number of siblings: 6\n",
      "Family members: ('Father', 'Mother', 'Alice', 'Emily', 'Grace', 'Jack', 'William', 'Henry')\n"
     ]
    }
   ],
   "source": [
    "sisters = ('Alice', 'Emily', 'Grace')\n",
    "brothers = ('Jack', 'William', 'Henry')\n",
    "\n",
    "# Join brothers and sisters tuples and assign it to siblings\n",
    "siblings = sisters + brothers\n",
    "\n",
    "# How many siblings do you have?\n",
    "num_siblings = len(siblings)\n",
    "\n",
    "# Modify the siblings tuple and add the name of your father and mother and assign it to family_members\n",
    "family_members = ('Father', 'Mother') + siblings\n",
    "\n",
    "# Print results\n",
    "print(\"Siblings:\", siblings)\n",
    "print(\"Number of siblings:\", num_siblings)\n",
    "print(\"Family members:\", family_members)"
   ]
  },
  {
   "cell_type": "markdown",
   "metadata": {},
   "source": [
    "## #4it_companies = {'Facebook', 'Google', 'Microsoft', 'Apple', 'IBM', 'Oracle', 'Amazon'}\n",
    "A = {19, 22, 24, 20, 25, 26}\n",
    "B = {19, 22, 20, 25, 26, 24, 28, 27}\n",
    "age = [22, 19, 24, 25, 26, 24, 25, 24]\n",
    "* Find the length of the set it_companies\n",
    "* Add 'Twitter' to it_companies\n",
    "* Insert multiple IT companies at once to the set it_companies\n",
    "* Remove one of the companies from the set it_companies\n",
    "* What is the difference between remove and discard\n",
    "* Join A and B\n",
    "* Find A intersection B\n",
    "* Is A subset of B\n",
    "* Are A and B disjoint sets\n",
    "* Join A with B and B with A\n",
    "* What is the symmetric difference between A and B\n",
    "* Delete the sets completely\n",
    "* Convert the ages to a set and compare the length of the list and the set."
   ]
  },
  {
   "cell_type": "code",
   "execution_count": 3,
   "metadata": {},
   "outputs": [],
   "source": [
    "it_companies = {'Facebook', 'Google', 'Microsoft', 'Apple', 'IBM', 'Oracle', 'Amazon'}\n",
    "A = {19, 22, 24, 20, 25, 26}\n",
    "B = {19, 22, 20, 25, 26, 24, 28, 27}\n",
    "age = [22, 19, 24, 25, 26, 24, 25, 24]\n",
    "\n",
    "# Find the length of the set it_companies\n",
    "length_it_companies = len(it_companies)\n",
    "\n",
    "# Add 'Twitter' to it_companies\n",
    "it_companies.add('Twitter')\n",
    "\n",
    "# Insert multiple IT companies at once to the set it_companies\n",
    "it_companies.update(['LinkedIn', 'Dell', 'Intel'])\n",
    "\n",
    "# Remove one of the companies from the set it_companies\n",
    "it_companies.remove('IBM')\n",
    "\n",
    "# Difference between remove and discard:\n",
    "# - remove() raises an error if the element is not present in the set, while discard() does not raise an error.\n",
    "# - discard() silently does nothing if the element is not present in the set.\n",
    "# - So, remove() is more strict than discard().\n",
    "\n",
    "# Join A and B\n",
    "joined_set = A.union(B)\n",
    "\n",
    "# Find A intersection B\n",
    "intersection_set = A.intersection(B)\n",
    "\n",
    "# Is A subset of B\n",
    "is_subset = A.issubset(B)\n",
    "\n",
    "# Are A and B disjoint sets\n",
    "disjoint_sets = A.isdisjoint(B)\n",
    "\n",
    "# Join A with B and B with A\n",
    "joined_AB = A.union(B)\n",
    "joined_BA = B.union(A)\n",
    "\n",
    "# What is the symmetric difference between A and B\n",
    "symmetric_difference = A.symmetric_difference(B)\n",
    "\n",
    "# Delete the sets completely\n",
    "del it_companies\n",
    "del A\n",
    "del B\n",
    "\n",
    "# Convert the ages to a set and compare the length of the list and the set\n",
    "ages_set = set(age)\n",
    "length_age_list = len(age)\n",
    "length_age_set = len(ages_set)"
   ]
  },
  {
   "cell_type": "markdown",
   "metadata": {},
   "source": [
    "## #5 The radius of a circle is 30 meters.\n",
    "* Calculate the area of a circle and assign the value to a variable name of _area_of_circle_\n",
    "* Calculate the circumference of a circle and assign the value to a variable name of\n",
    "_circum_of_circle_\n",
    "* Take radius as user input and calculate the area.\n"
   ]
  },
  {
   "cell_type": "code",
   "execution_count": 5,
   "metadata": {},
   "outputs": [
    {
     "name": "stdout",
     "output_type": "stream",
     "text": [
      "Area of the circle: 2827.4333882308138\n",
      "Circumference of the circle: 188.49555921538757\n",
      "Area of the circle with user input radius: 50.26548245743669\n"
     ]
    }
   ],
   "source": [
    "import math\n",
    "\n",
    "# Given radius\n",
    "radius = 30\n",
    "\n",
    "# Calculate the area of a circle\n",
    "area_of_circle = math.pi * radius ** 2\n",
    "\n",
    "# Calculate the circumference of a circle\n",
    "circum_of_circle = 2 * math.pi * radius\n",
    "\n",
    "# Print the calculated values\n",
    "print(\"Area of the circle:\", area_of_circle)\n",
    "print(\"Circumference of the circle:\", circum_of_circle)\n",
    "\n",
    "# Take radius as user input\n",
    "user_radius = float(input(\"Enter the radius of the circle: \"))\n",
    "\n",
    "# Calculate the area of the circle with user input radius\n",
    "area_with_user_input = math.pi * user_radius ** 2\n",
    "\n",
    "# Print the calculated area with user input radius\n",
    "print(\"Area of the circle with user input radius:\", area_with_user_input)\n"
   ]
  },
  {
   "cell_type": "markdown",
   "metadata": {},
   "source": [
    "## #6 “I am a teacher and I love to inspire and teach people”\n",
    "* How many unique words have been used in the sentence? Use the split methods and set\n",
    "to get the unique words."
   ]
  },
  {
   "cell_type": "code",
   "execution_count": 6,
   "metadata": {},
   "outputs": [
    {
     "name": "stdout",
     "output_type": "stream",
     "text": [
      "Number of unique words: 10\n"
     ]
    }
   ],
   "source": [
    "sentence = \"I am a teacher and I love to inspire and teach people\"\n",
    "\n",
    "# Split the sentence into words\n",
    "words = sentence.split()\n",
    "\n",
    "# Get unique words using set\n",
    "unique_words = set(words)\n",
    "\n",
    "# Count the number of unique words\n",
    "num_unique_words = len(unique_words)\n",
    "\n",
    "# Print the number of unique words\n",
    "print(\"Number of unique words:\", num_unique_words)"
   ]
  },
  {
   "cell_type": "markdown",
   "metadata": {},
   "source": [
    "## #7 Use a tab escape sequence to get the following lines.\n",
    "* Name Age Country City\n",
    "* Asabeneh 250 Finland Helsinki\n"
   ]
  },
  {
   "cell_type": "code",
   "execution_count": 7,
   "metadata": {},
   "outputs": [
    {
     "name": "stdout",
     "output_type": "stream",
     "text": [
      "Name\tAge\tCountry\tCity\n",
      "Asabeneh\t250\tFinland\tHelsinki\n",
      "Question 8\n",
      "The area of a circle with radius 10 is 314.0 meters square.\n"
     ]
    }
   ],
   "source": [
    "formatted_lines = \"Name\\tAge\\tCountry\\tCity\\nAsabeneh\\t250\\tFinland\\tHelsinki\\nQuestion 8\"\n",
    "\n",
    "# Printing the formatted lines\n",
    "print(formatted_lines)\n",
    "\n",
    "# Using string formatting method to display the given statement\n",
    "radius = 10\n",
    "area = 3.14 * radius ** 2\n",
    "formatted_statement = f\"The area of a circle with radius {radius} is {area} meters square.\"\n",
    "\n",
    "# Printing the formatted statement\n",
    "print(formatted_statement)"
   ]
  },
  {
   "cell_type": "markdown",
   "metadata": {},
   "source": [
    "## #8 Use the string formatting method to display the following:\n",
    "* radius = 10\n",
    "* area = 3.14 * radius ** 2\n",
    "* “The area of a circle with radius 10 is 314 meters square.”"
   ]
  },
  {
   "cell_type": "code",
   "execution_count": 8,
   "metadata": {},
   "outputs": [
    {
     "name": "stdout",
     "output_type": "stream",
     "text": [
      "The area of a circle with radius 10 is 314.0 meters square.\n"
     ]
    }
   ],
   "source": [
    "# Given radius and calculated area\n",
    "radius = 10\n",
    "area = 3.14 * radius ** 2\n",
    "\n",
    "# Using string formatting method to display the statement\n",
    "formatted_statement = \"The area of a circle with radius {} is {} meters square.\".format(radius, area)\n",
    "\n",
    "# Printing the formatted statement\n",
    "print(formatted_statement)\n"
   ]
  },
  {
   "cell_type": "markdown",
   "metadata": {},
   "source": [
    "## #9 Write a program, which reads weights (lbs.) of N students into a list and convert these weights to\n",
    "kilograms in a separate list using Loop. N: No of students (Read input from user)\n",
    "* Ex: L1: [150, 155, 145, 148]\n",
    "* Output: [68.03, 70.3, 65.77, 67.13]"
   ]
  },
  {
   "cell_type": "code",
   "execution_count": 9,
   "metadata": {},
   "outputs": [
    {
     "name": "stdout",
     "output_type": "stream",
     "text": [
      "Weights in kilograms: [15.88, 15.42, 29.94, 24.95, 19.96, 14.97]\n"
     ]
    }
   ],
   "source": [
    "N = int(input(\"Enter the number of students: \"))\n",
    "\n",
    "# Initialize an empty list to store weights in pounds\n",
    "weights_lbs = []\n",
    "\n",
    "# Read weights of N students into the list\n",
    "for i in range(N):\n",
    "    weight = float(input(f\"Enter weight of student {i+1} in pounds: \"))\n",
    "    weights_lbs.append(weight)\n",
    "\n",
    "# Convert weights from pounds to kilograms and store them in a separate list\n",
    "weights_kgs = []\n",
    "for weight_lbs in weights_lbs:\n",
    "    weight_kgs = weight_lbs * 0.453592  # 1 pound = 0.453592 kilograms\n",
    "    weights_kgs.append(round(weight_kgs, 2))  # rounding to 2 decimal places\n",
    "\n",
    "# Print the weights in kilograms\n",
    "print(\"Weights in kilograms:\", weights_kgs)\n"
   ]
  },
  {
   "cell_type": "code",
   "execution_count": null,
   "metadata": {},
   "outputs": [],
   "source": []
  }
 ],
 "metadata": {
  "kernelspec": {
   "display_name": "Python 3",
   "language": "python",
   "name": "python3"
  },
  "language_info": {
   "codemirror_mode": {
    "name": "ipython",
    "version": 3
   },
   "file_extension": ".py",
   "mimetype": "text/x-python",
   "name": "python",
   "nbconvert_exporter": "python",
   "pygments_lexer": "ipython3",
   "version": "3.8.19"
  }
 },
 "nbformat": 4,
 "nbformat_minor": 2
}
