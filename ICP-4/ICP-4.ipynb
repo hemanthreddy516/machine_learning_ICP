{
  "nbformat": 4,
  "nbformat_minor": 0,
  "metadata": {
    "colab": {
      "provenance": []
    },
    "kernelspec": {
      "name": "python3",
      "display_name": "Python 3"
    },
    "language_info": {
      "name": "python"
    }
  },
  "cells": [
    {
      "cell_type": "code",
      "execution_count": 1,
      "metadata": {
        "colab": {
          "base_uri": "https://localhost:8080/"
        },
        "id": "89s6Jp7GjKaq",
        "outputId": "545119a3-a43d-4c29-8e5e-8a375236dcab"
      },
      "outputs": [
        {
          "output_type": "stream",
          "name": "stdout",
          "text": [
            "            0         1         Species\n",
            "0   -2.264542  0.505704     Iris-setosa\n",
            "1   -2.086426 -0.655405     Iris-setosa\n",
            "2   -2.367950 -0.318477     Iris-setosa\n",
            "3   -2.304197 -0.575368     Iris-setosa\n",
            "4   -2.388777  0.674767     Iris-setosa\n",
            "..        ...       ...             ...\n",
            "145  1.870522  0.382822  Iris-virginica\n",
            "146  1.558492 -0.905314  Iris-virginica\n",
            "147  1.520845  0.266795  Iris-virginica\n",
            "148  1.376391  1.016362  Iris-virginica\n",
            "149  0.959299 -0.022284  Iris-virginica\n",
            "\n",
            "[150 rows x 3 columns]\n"
          ]
        }
      ],
      "source": [
        "from sklearn.model_selection import train_test_split\n",
        "import pandas as pd\n",
        "from sklearn.decomposition import PCA\n",
        "\n",
        "# You can add the parameter data_home to wherever to where you want to download your data\n",
        "dataset = pd.read_csv('Iris.csv')\n",
        "x = dataset.iloc[:,[1,2,3,4]]\n",
        "y = dataset.iloc[:,-1]\n",
        "\n",
        "from sklearn.preprocessing import StandardScaler\n",
        "scaler = StandardScaler()\n",
        "# Fit on training set only.\n",
        "scaler.fit(x)\n",
        "\n",
        "# Apply transform to both the training set and the test set.\n",
        "x_scaler = scaler.transform(x)\n",
        "pca = PCA(2)\n",
        "x_pca = pca.fit_transform(x_scaler)\n",
        "df2 = pd.DataFrame(data=x_pca)\n",
        "finaldf = pd.concat([df2,dataset[['Species']]],axis=1)\n",
        "print(finaldf)\n"
      ]
    },
    {
      "cell_type": "code",
      "source": [
        "from sklearn.decomposition import PCA\n",
        "from sklearn.preprocessing import StandardScaler\n",
        "from sklearn.model_selection import train_test_split\n",
        "import pandas as pd\n",
        "from sklearn.metrics import accuracy_score\n",
        "import matplotlib.pyplot as plt\n",
        "import warnings\n",
        "warnings.filterwarnings('ignore')\n",
        "\n",
        "# Load the CC dataset\n",
        "df_cc = pd.read_csv('CC GENERAL.csv')\n"
      ],
      "metadata": {
        "id": "DhflBRVukNJf"
      },
      "execution_count": 3,
      "outputs": []
    },
    {
      "cell_type": "code",
      "source": [
        "df_cc.head()"
      ],
      "metadata": {
        "colab": {
          "base_uri": "https://localhost:8080/",
          "height": 226
        },
        "id": "_3TOVj9tphxx",
        "outputId": "f5e504f2-5f85-4267-dd13-3607866101d6"
      },
      "execution_count": 5,
      "outputs": [
        {
          "output_type": "execute_result",
          "data": {
            "text/plain": [
              "  CUST_ID      BALANCE  BALANCE_FREQUENCY  PURCHASES  ONEOFF_PURCHASES  \\\n",
              "0  C10001    40.900749           0.818182      95.40              0.00   \n",
              "1  C10002  3202.467416           0.909091       0.00              0.00   \n",
              "2  C10003  2495.148862           1.000000     773.17            773.17   \n",
              "3  C10004  1666.670542           0.636364    1499.00           1499.00   \n",
              "4  C10005   817.714335           1.000000      16.00             16.00   \n",
              "\n",
              "   INSTALLMENTS_PURCHASES  CASH_ADVANCE  PURCHASES_FREQUENCY  \\\n",
              "0                    95.4      0.000000             0.166667   \n",
              "1                     0.0   6442.945483             0.000000   \n",
              "2                     0.0      0.000000             1.000000   \n",
              "3                     0.0    205.788017             0.083333   \n",
              "4                     0.0      0.000000             0.083333   \n",
              "\n",
              "   ONEOFF_PURCHASES_FREQUENCY  PURCHASES_INSTALLMENTS_FREQUENCY  \\\n",
              "0                    0.000000                          0.083333   \n",
              "1                    0.000000                          0.000000   \n",
              "2                    1.000000                          0.000000   \n",
              "3                    0.083333                          0.000000   \n",
              "4                    0.083333                          0.000000   \n",
              "\n",
              "   CASH_ADVANCE_FREQUENCY  CASH_ADVANCE_TRX  PURCHASES_TRX  CREDIT_LIMIT  \\\n",
              "0                0.000000                 0              2        1000.0   \n",
              "1                0.250000                 4              0        7000.0   \n",
              "2                0.000000                 0             12        7500.0   \n",
              "3                0.083333                 1              1        7500.0   \n",
              "4                0.000000                 0              1        1200.0   \n",
              "\n",
              "      PAYMENTS  MINIMUM_PAYMENTS  PRC_FULL_PAYMENT  TENURE  \n",
              "0   201.802084        139.509787          0.000000      12  \n",
              "1  4103.032597       1072.340217          0.222222      12  \n",
              "2   622.066742        627.284787          0.000000      12  \n",
              "3     0.000000               NaN          0.000000      12  \n",
              "4   678.334763        244.791237          0.000000      12  "
            ],
            "text/html": [
              "\n",
              "  <div id=\"df-2c0bf19c-0795-4ca2-9f36-c94c7997b77a\" class=\"colab-df-container\">\n",
              "    <div>\n",
              "<style scoped>\n",
              "    .dataframe tbody tr th:only-of-type {\n",
              "        vertical-align: middle;\n",
              "    }\n",
              "\n",
              "    .dataframe tbody tr th {\n",
              "        vertical-align: top;\n",
              "    }\n",
              "\n",
              "    .dataframe thead th {\n",
              "        text-align: right;\n",
              "    }\n",
              "</style>\n",
              "<table border=\"1\" class=\"dataframe\">\n",
              "  <thead>\n",
              "    <tr style=\"text-align: right;\">\n",
              "      <th></th>\n",
              "      <th>CUST_ID</th>\n",
              "      <th>BALANCE</th>\n",
              "      <th>BALANCE_FREQUENCY</th>\n",
              "      <th>PURCHASES</th>\n",
              "      <th>ONEOFF_PURCHASES</th>\n",
              "      <th>INSTALLMENTS_PURCHASES</th>\n",
              "      <th>CASH_ADVANCE</th>\n",
              "      <th>PURCHASES_FREQUENCY</th>\n",
              "      <th>ONEOFF_PURCHASES_FREQUENCY</th>\n",
              "      <th>PURCHASES_INSTALLMENTS_FREQUENCY</th>\n",
              "      <th>CASH_ADVANCE_FREQUENCY</th>\n",
              "      <th>CASH_ADVANCE_TRX</th>\n",
              "      <th>PURCHASES_TRX</th>\n",
              "      <th>CREDIT_LIMIT</th>\n",
              "      <th>PAYMENTS</th>\n",
              "      <th>MINIMUM_PAYMENTS</th>\n",
              "      <th>PRC_FULL_PAYMENT</th>\n",
              "      <th>TENURE</th>\n",
              "    </tr>\n",
              "  </thead>\n",
              "  <tbody>\n",
              "    <tr>\n",
              "      <th>0</th>\n",
              "      <td>C10001</td>\n",
              "      <td>40.900749</td>\n",
              "      <td>0.818182</td>\n",
              "      <td>95.40</td>\n",
              "      <td>0.00</td>\n",
              "      <td>95.4</td>\n",
              "      <td>0.000000</td>\n",
              "      <td>0.166667</td>\n",
              "      <td>0.000000</td>\n",
              "      <td>0.083333</td>\n",
              "      <td>0.000000</td>\n",
              "      <td>0</td>\n",
              "      <td>2</td>\n",
              "      <td>1000.0</td>\n",
              "      <td>201.802084</td>\n",
              "      <td>139.509787</td>\n",
              "      <td>0.000000</td>\n",
              "      <td>12</td>\n",
              "    </tr>\n",
              "    <tr>\n",
              "      <th>1</th>\n",
              "      <td>C10002</td>\n",
              "      <td>3202.467416</td>\n",
              "      <td>0.909091</td>\n",
              "      <td>0.00</td>\n",
              "      <td>0.00</td>\n",
              "      <td>0.0</td>\n",
              "      <td>6442.945483</td>\n",
              "      <td>0.000000</td>\n",
              "      <td>0.000000</td>\n",
              "      <td>0.000000</td>\n",
              "      <td>0.250000</td>\n",
              "      <td>4</td>\n",
              "      <td>0</td>\n",
              "      <td>7000.0</td>\n",
              "      <td>4103.032597</td>\n",
              "      <td>1072.340217</td>\n",
              "      <td>0.222222</td>\n",
              "      <td>12</td>\n",
              "    </tr>\n",
              "    <tr>\n",
              "      <th>2</th>\n",
              "      <td>C10003</td>\n",
              "      <td>2495.148862</td>\n",
              "      <td>1.000000</td>\n",
              "      <td>773.17</td>\n",
              "      <td>773.17</td>\n",
              "      <td>0.0</td>\n",
              "      <td>0.000000</td>\n",
              "      <td>1.000000</td>\n",
              "      <td>1.000000</td>\n",
              "      <td>0.000000</td>\n",
              "      <td>0.000000</td>\n",
              "      <td>0</td>\n",
              "      <td>12</td>\n",
              "      <td>7500.0</td>\n",
              "      <td>622.066742</td>\n",
              "      <td>627.284787</td>\n",
              "      <td>0.000000</td>\n",
              "      <td>12</td>\n",
              "    </tr>\n",
              "    <tr>\n",
              "      <th>3</th>\n",
              "      <td>C10004</td>\n",
              "      <td>1666.670542</td>\n",
              "      <td>0.636364</td>\n",
              "      <td>1499.00</td>\n",
              "      <td>1499.00</td>\n",
              "      <td>0.0</td>\n",
              "      <td>205.788017</td>\n",
              "      <td>0.083333</td>\n",
              "      <td>0.083333</td>\n",
              "      <td>0.000000</td>\n",
              "      <td>0.083333</td>\n",
              "      <td>1</td>\n",
              "      <td>1</td>\n",
              "      <td>7500.0</td>\n",
              "      <td>0.000000</td>\n",
              "      <td>NaN</td>\n",
              "      <td>0.000000</td>\n",
              "      <td>12</td>\n",
              "    </tr>\n",
              "    <tr>\n",
              "      <th>4</th>\n",
              "      <td>C10005</td>\n",
              "      <td>817.714335</td>\n",
              "      <td>1.000000</td>\n",
              "      <td>16.00</td>\n",
              "      <td>16.00</td>\n",
              "      <td>0.0</td>\n",
              "      <td>0.000000</td>\n",
              "      <td>0.083333</td>\n",
              "      <td>0.083333</td>\n",
              "      <td>0.000000</td>\n",
              "      <td>0.000000</td>\n",
              "      <td>0</td>\n",
              "      <td>1</td>\n",
              "      <td>1200.0</td>\n",
              "      <td>678.334763</td>\n",
              "      <td>244.791237</td>\n",
              "      <td>0.000000</td>\n",
              "      <td>12</td>\n",
              "    </tr>\n",
              "  </tbody>\n",
              "</table>\n",
              "</div>\n",
              "    <div class=\"colab-df-buttons\">\n",
              "\n",
              "  <div class=\"colab-df-container\">\n",
              "    <button class=\"colab-df-convert\" onclick=\"convertToInteractive('df-2c0bf19c-0795-4ca2-9f36-c94c7997b77a')\"\n",
              "            title=\"Convert this dataframe to an interactive table.\"\n",
              "            style=\"display:none;\">\n",
              "\n",
              "  <svg xmlns=\"http://www.w3.org/2000/svg\" height=\"24px\" viewBox=\"0 -960 960 960\">\n",
              "    <path d=\"M120-120v-720h720v720H120Zm60-500h600v-160H180v160Zm220 220h160v-160H400v160Zm0 220h160v-160H400v160ZM180-400h160v-160H180v160Zm440 0h160v-160H620v160ZM180-180h160v-160H180v160Zm440 0h160v-160H620v160Z\"/>\n",
              "  </svg>\n",
              "    </button>\n",
              "\n",
              "  <style>\n",
              "    .colab-df-container {\n",
              "      display:flex;\n",
              "      gap: 12px;\n",
              "    }\n",
              "\n",
              "    .colab-df-convert {\n",
              "      background-color: #E8F0FE;\n",
              "      border: none;\n",
              "      border-radius: 50%;\n",
              "      cursor: pointer;\n",
              "      display: none;\n",
              "      fill: #1967D2;\n",
              "      height: 32px;\n",
              "      padding: 0 0 0 0;\n",
              "      width: 32px;\n",
              "    }\n",
              "\n",
              "    .colab-df-convert:hover {\n",
              "      background-color: #E2EBFA;\n",
              "      box-shadow: 0px 1px 2px rgba(60, 64, 67, 0.3), 0px 1px 3px 1px rgba(60, 64, 67, 0.15);\n",
              "      fill: #174EA6;\n",
              "    }\n",
              "\n",
              "    .colab-df-buttons div {\n",
              "      margin-bottom: 4px;\n",
              "    }\n",
              "\n",
              "    [theme=dark] .colab-df-convert {\n",
              "      background-color: #3B4455;\n",
              "      fill: #D2E3FC;\n",
              "    }\n",
              "\n",
              "    [theme=dark] .colab-df-convert:hover {\n",
              "      background-color: #434B5C;\n",
              "      box-shadow: 0px 1px 3px 1px rgba(0, 0, 0, 0.15);\n",
              "      filter: drop-shadow(0px 1px 2px rgba(0, 0, 0, 0.3));\n",
              "      fill: #FFFFFF;\n",
              "    }\n",
              "  </style>\n",
              "\n",
              "    <script>\n",
              "      const buttonEl =\n",
              "        document.querySelector('#df-2c0bf19c-0795-4ca2-9f36-c94c7997b77a button.colab-df-convert');\n",
              "      buttonEl.style.display =\n",
              "        google.colab.kernel.accessAllowed ? 'block' : 'none';\n",
              "\n",
              "      async function convertToInteractive(key) {\n",
              "        const element = document.querySelector('#df-2c0bf19c-0795-4ca2-9f36-c94c7997b77a');\n",
              "        const dataTable =\n",
              "          await google.colab.kernel.invokeFunction('convertToInteractive',\n",
              "                                                    [key], {});\n",
              "        if (!dataTable) return;\n",
              "\n",
              "        const docLinkHtml = 'Like what you see? Visit the ' +\n",
              "          '<a target=\"_blank\" href=https://colab.research.google.com/notebooks/data_table.ipynb>data table notebook</a>'\n",
              "          + ' to learn more about interactive tables.';\n",
              "        element.innerHTML = '';\n",
              "        dataTable['output_type'] = 'display_data';\n",
              "        await google.colab.output.renderOutput(dataTable, element);\n",
              "        const docLink = document.createElement('div');\n",
              "        docLink.innerHTML = docLinkHtml;\n",
              "        element.appendChild(docLink);\n",
              "      }\n",
              "    </script>\n",
              "  </div>\n",
              "\n",
              "\n",
              "<div id=\"df-eefb3efc-25d2-4786-90c8-15f59574a31d\">\n",
              "  <button class=\"colab-df-quickchart\" onclick=\"quickchart('df-eefb3efc-25d2-4786-90c8-15f59574a31d')\"\n",
              "            title=\"Suggest charts\"\n",
              "            style=\"display:none;\">\n",
              "\n",
              "<svg xmlns=\"http://www.w3.org/2000/svg\" height=\"24px\"viewBox=\"0 0 24 24\"\n",
              "     width=\"24px\">\n",
              "    <g>\n",
              "        <path d=\"M19 3H5c-1.1 0-2 .9-2 2v14c0 1.1.9 2 2 2h14c1.1 0 2-.9 2-2V5c0-1.1-.9-2-2-2zM9 17H7v-7h2v7zm4 0h-2V7h2v10zm4 0h-2v-4h2v4z\"/>\n",
              "    </g>\n",
              "</svg>\n",
              "  </button>\n",
              "\n",
              "<style>\n",
              "  .colab-df-quickchart {\n",
              "      --bg-color: #E8F0FE;\n",
              "      --fill-color: #1967D2;\n",
              "      --hover-bg-color: #E2EBFA;\n",
              "      --hover-fill-color: #174EA6;\n",
              "      --disabled-fill-color: #AAA;\n",
              "      --disabled-bg-color: #DDD;\n",
              "  }\n",
              "\n",
              "  [theme=dark] .colab-df-quickchart {\n",
              "      --bg-color: #3B4455;\n",
              "      --fill-color: #D2E3FC;\n",
              "      --hover-bg-color: #434B5C;\n",
              "      --hover-fill-color: #FFFFFF;\n",
              "      --disabled-bg-color: #3B4455;\n",
              "      --disabled-fill-color: #666;\n",
              "  }\n",
              "\n",
              "  .colab-df-quickchart {\n",
              "    background-color: var(--bg-color);\n",
              "    border: none;\n",
              "    border-radius: 50%;\n",
              "    cursor: pointer;\n",
              "    display: none;\n",
              "    fill: var(--fill-color);\n",
              "    height: 32px;\n",
              "    padding: 0;\n",
              "    width: 32px;\n",
              "  }\n",
              "\n",
              "  .colab-df-quickchart:hover {\n",
              "    background-color: var(--hover-bg-color);\n",
              "    box-shadow: 0 1px 2px rgba(60, 64, 67, 0.3), 0 1px 3px 1px rgba(60, 64, 67, 0.15);\n",
              "    fill: var(--button-hover-fill-color);\n",
              "  }\n",
              "\n",
              "  .colab-df-quickchart-complete:disabled,\n",
              "  .colab-df-quickchart-complete:disabled:hover {\n",
              "    background-color: var(--disabled-bg-color);\n",
              "    fill: var(--disabled-fill-color);\n",
              "    box-shadow: none;\n",
              "  }\n",
              "\n",
              "  .colab-df-spinner {\n",
              "    border: 2px solid var(--fill-color);\n",
              "    border-color: transparent;\n",
              "    border-bottom-color: var(--fill-color);\n",
              "    animation:\n",
              "      spin 1s steps(1) infinite;\n",
              "  }\n",
              "\n",
              "  @keyframes spin {\n",
              "    0% {\n",
              "      border-color: transparent;\n",
              "      border-bottom-color: var(--fill-color);\n",
              "      border-left-color: var(--fill-color);\n",
              "    }\n",
              "    20% {\n",
              "      border-color: transparent;\n",
              "      border-left-color: var(--fill-color);\n",
              "      border-top-color: var(--fill-color);\n",
              "    }\n",
              "    30% {\n",
              "      border-color: transparent;\n",
              "      border-left-color: var(--fill-color);\n",
              "      border-top-color: var(--fill-color);\n",
              "      border-right-color: var(--fill-color);\n",
              "    }\n",
              "    40% {\n",
              "      border-color: transparent;\n",
              "      border-right-color: var(--fill-color);\n",
              "      border-top-color: var(--fill-color);\n",
              "    }\n",
              "    60% {\n",
              "      border-color: transparent;\n",
              "      border-right-color: var(--fill-color);\n",
              "    }\n",
              "    80% {\n",
              "      border-color: transparent;\n",
              "      border-right-color: var(--fill-color);\n",
              "      border-bottom-color: var(--fill-color);\n",
              "    }\n",
              "    90% {\n",
              "      border-color: transparent;\n",
              "      border-bottom-color: var(--fill-color);\n",
              "    }\n",
              "  }\n",
              "</style>\n",
              "\n",
              "  <script>\n",
              "    async function quickchart(key) {\n",
              "      const quickchartButtonEl =\n",
              "        document.querySelector('#' + key + ' button');\n",
              "      quickchartButtonEl.disabled = true;  // To prevent multiple clicks.\n",
              "      quickchartButtonEl.classList.add('colab-df-spinner');\n",
              "      try {\n",
              "        const charts = await google.colab.kernel.invokeFunction(\n",
              "            'suggestCharts', [key], {});\n",
              "      } catch (error) {\n",
              "        console.error('Error during call to suggestCharts:', error);\n",
              "      }\n",
              "      quickchartButtonEl.classList.remove('colab-df-spinner');\n",
              "      quickchartButtonEl.classList.add('colab-df-quickchart-complete');\n",
              "    }\n",
              "    (() => {\n",
              "      let quickchartButtonEl =\n",
              "        document.querySelector('#df-eefb3efc-25d2-4786-90c8-15f59574a31d button');\n",
              "      quickchartButtonEl.style.display =\n",
              "        google.colab.kernel.accessAllowed ? 'block' : 'none';\n",
              "    })();\n",
              "  </script>\n",
              "</div>\n",
              "\n",
              "    </div>\n",
              "  </div>\n"
            ],
            "application/vnd.google.colaboratory.intrinsic+json": {
              "type": "dataframe",
              "variable_name": "df_cc",
              "summary": "{\n  \"name\": \"df_cc\",\n  \"rows\": 8950,\n  \"fields\": [\n    {\n      \"column\": \"CUST_ID\",\n      \"properties\": {\n        \"dtype\": \"string\",\n        \"num_unique_values\": 8950,\n        \"samples\": [\n          \"C17875\",\n          \"C16296\",\n          \"C17219\"\n        ],\n        \"semantic_type\": \"\",\n        \"description\": \"\"\n      }\n    },\n    {\n      \"column\": \"BALANCE\",\n      \"properties\": {\n        \"dtype\": \"number\",\n        \"std\": 2081.5318794565546,\n        \"min\": 0.0,\n        \"max\": 19043.13856,\n        \"num_unique_values\": 8871,\n        \"samples\": [\n          325.024091,\n          965.514081,\n          203.499251\n        ],\n        \"semantic_type\": \"\",\n        \"description\": \"\"\n      }\n    },\n    {\n      \"column\": \"BALANCE_FREQUENCY\",\n      \"properties\": {\n        \"dtype\": \"number\",\n        \"std\": 0.23690400268476855,\n        \"min\": 0.0,\n        \"max\": 1.0,\n        \"num_unique_values\": 43,\n        \"samples\": [\n          0.428571,\n          0.8,\n          0.2\n        ],\n        \"semantic_type\": \"\",\n        \"description\": \"\"\n      }\n    },\n    {\n      \"column\": \"PURCHASES\",\n      \"properties\": {\n        \"dtype\": \"number\",\n        \"std\": 2136.6347818728887,\n        \"min\": 0.0,\n        \"max\": 49039.57,\n        \"num_unique_values\": 6203,\n        \"samples\": [\n          1361.65,\n          2485.54,\n          2580.63\n        ],\n        \"semantic_type\": \"\",\n        \"description\": \"\"\n      }\n    },\n    {\n      \"column\": \"ONEOFF_PURCHASES\",\n      \"properties\": {\n        \"dtype\": \"number\",\n        \"std\": 1659.887917437811,\n        \"min\": 0.0,\n        \"max\": 40761.25,\n        \"num_unique_values\": 4014,\n        \"samples\": [\n          25.62,\n          13007.07,\n          185.63\n        ],\n        \"semantic_type\": \"\",\n        \"description\": \"\"\n      }\n    },\n    {\n      \"column\": \"INSTALLMENTS_PURCHASES\",\n      \"properties\": {\n        \"dtype\": \"number\",\n        \"std\": 904.3381151753817,\n        \"min\": 0.0,\n        \"max\": 22500.0,\n        \"num_unique_values\": 4452,\n        \"samples\": [\n          228.56,\n          255.58,\n          729.6\n        ],\n        \"semantic_type\": \"\",\n        \"description\": \"\"\n      }\n    },\n    {\n      \"column\": \"CASH_ADVANCE\",\n      \"properties\": {\n        \"dtype\": \"number\",\n        \"std\": 2097.163876643234,\n        \"min\": 0.0,\n        \"max\": 47137.21176,\n        \"num_unique_values\": 4323,\n        \"samples\": [\n          4473.3497,\n          520.844673,\n          3968.684047\n        ],\n        \"semantic_type\": \"\",\n        \"description\": \"\"\n      }\n    },\n    {\n      \"column\": \"PURCHASES_FREQUENCY\",\n      \"properties\": {\n        \"dtype\": \"number\",\n        \"std\": 0.40137074736904105,\n        \"min\": 0.0,\n        \"max\": 1.0,\n        \"num_unique_values\": 47,\n        \"samples\": [\n          0.8,\n          0.555556,\n          0.2\n        ],\n        \"semantic_type\": \"\",\n        \"description\": \"\"\n      }\n    },\n    {\n      \"column\": \"ONEOFF_PURCHASES_FREQUENCY\",\n      \"properties\": {\n        \"dtype\": \"number\",\n        \"std\": 0.2983360651847195,\n        \"min\": 0.0,\n        \"max\": 1.0,\n        \"num_unique_values\": 47,\n        \"samples\": [\n          0.909091,\n          0.625,\n          0.181818\n        ],\n        \"semantic_type\": \"\",\n        \"description\": \"\"\n      }\n    },\n    {\n      \"column\": \"PURCHASES_INSTALLMENTS_FREQUENCY\",\n      \"properties\": {\n        \"dtype\": \"number\",\n        \"std\": 0.39744777974541307,\n        \"min\": 0.0,\n        \"max\": 1.0,\n        \"num_unique_values\": 47,\n        \"samples\": [\n          0.857143,\n          0.222222,\n          0.142857\n        ],\n        \"semantic_type\": \"\",\n        \"description\": \"\"\n      }\n    },\n    {\n      \"column\": \"CASH_ADVANCE_FREQUENCY\",\n      \"properties\": {\n        \"dtype\": \"number\",\n        \"std\": 0.2001213881474969,\n        \"min\": 0.0,\n        \"max\": 1.5,\n        \"num_unique_values\": 54,\n        \"samples\": [\n          0.222222,\n          0.818182,\n          0.7\n        ],\n        \"semantic_type\": \"\",\n        \"description\": \"\"\n      }\n    },\n    {\n      \"column\": \"CASH_ADVANCE_TRX\",\n      \"properties\": {\n        \"dtype\": \"number\",\n        \"std\": 6,\n        \"min\": 0,\n        \"max\": 123,\n        \"num_unique_values\": 65,\n        \"samples\": [\n          47,\n          61,\n          0\n        ],\n        \"semantic_type\": \"\",\n        \"description\": \"\"\n      }\n    },\n    {\n      \"column\": \"PURCHASES_TRX\",\n      \"properties\": {\n        \"dtype\": \"number\",\n        \"std\": 24,\n        \"min\": 0,\n        \"max\": 358,\n        \"num_unique_values\": 173,\n        \"samples\": [\n          162,\n          216,\n          79\n        ],\n        \"semantic_type\": \"\",\n        \"description\": \"\"\n      }\n    },\n    {\n      \"column\": \"CREDIT_LIMIT\",\n      \"properties\": {\n        \"dtype\": \"number\",\n        \"std\": 3638.8157254984967,\n        \"min\": 50.0,\n        \"max\": 30000.0,\n        \"num_unique_values\": 205,\n        \"samples\": [\n          9000.0,\n          3000.0,\n          300.0\n        ],\n        \"semantic_type\": \"\",\n        \"description\": \"\"\n      }\n    },\n    {\n      \"column\": \"PAYMENTS\",\n      \"properties\": {\n        \"dtype\": \"number\",\n        \"std\": 2895.063756904574,\n        \"min\": 0.0,\n        \"max\": 50721.48336,\n        \"num_unique_values\": 8711,\n        \"samples\": [\n          810.671862,\n          5943.975673,\n          7079.1781\n        ],\n        \"semantic_type\": \"\",\n        \"description\": \"\"\n      }\n    },\n    {\n      \"column\": \"MINIMUM_PAYMENTS\",\n      \"properties\": {\n        \"dtype\": \"number\",\n        \"std\": 2372.4466065839747,\n        \"min\": 0.019163,\n        \"max\": 76406.20752,\n        \"num_unique_values\": 8636,\n        \"samples\": [\n          173.484575,\n          185.120378,\n          163.711273\n        ],\n        \"semantic_type\": \"\",\n        \"description\": \"\"\n      }\n    },\n    {\n      \"column\": \"PRC_FULL_PAYMENT\",\n      \"properties\": {\n        \"dtype\": \"number\",\n        \"std\": 0.29249919623387854,\n        \"min\": 0.0,\n        \"max\": 1.0,\n        \"num_unique_values\": 47,\n        \"samples\": [\n          0.583333,\n          0.272727,\n          0.1\n        ],\n        \"semantic_type\": \"\",\n        \"description\": \"\"\n      }\n    },\n    {\n      \"column\": \"TENURE\",\n      \"properties\": {\n        \"dtype\": \"number\",\n        \"std\": 1,\n        \"min\": 6,\n        \"max\": 12,\n        \"num_unique_values\": 7,\n        \"samples\": [\n          12,\n          8,\n          7\n        ],\n        \"semantic_type\": \"\",\n        \"description\": \"\"\n      }\n    }\n  ]\n}"
            }
          },
          "metadata": {},
          "execution_count": 5
        }
      ]
    },
    {
      "cell_type": "code",
      "source": [
        "df_cc.shape"
      ],
      "metadata": {
        "colab": {
          "base_uri": "https://localhost:8080/"
        },
        "id": "C1MNcAE3pn3m",
        "outputId": "a14d7988-7b12-4124-fd6a-c615384f2b7c"
      },
      "execution_count": 6,
      "outputs": [
        {
          "output_type": "execute_result",
          "data": {
            "text/plain": [
              "(8950, 18)"
            ]
          },
          "metadata": {},
          "execution_count": 6
        }
      ]
    },
    {
      "cell_type": "code",
      "source": [
        "# Drop any rows with missing values for simplicity\n",
        "df_cc.dropna(inplace=True)"
      ],
      "metadata": {
        "id": "yEdnTBIBpsAc"
      },
      "execution_count": 7,
      "outputs": []
    },
    {
      "cell_type": "code",
      "source": [
        "df_cc.isnull().sum()"
      ],
      "metadata": {
        "colab": {
          "base_uri": "https://localhost:8080/"
        },
        "id": "urFjsUxipvOP",
        "outputId": "97259d04-9df9-4b3e-9a19-a611e05a0ed9"
      },
      "execution_count": 9,
      "outputs": [
        {
          "output_type": "execute_result",
          "data": {
            "text/plain": [
              "CUST_ID                             0\n",
              "BALANCE                             0\n",
              "BALANCE_FREQUENCY                   0\n",
              "PURCHASES                           0\n",
              "ONEOFF_PURCHASES                    0\n",
              "INSTALLMENTS_PURCHASES              0\n",
              "CASH_ADVANCE                        0\n",
              "PURCHASES_FREQUENCY                 0\n",
              "ONEOFF_PURCHASES_FREQUENCY          0\n",
              "PURCHASES_INSTALLMENTS_FREQUENCY    0\n",
              "CASH_ADVANCE_FREQUENCY              0\n",
              "CASH_ADVANCE_TRX                    0\n",
              "PURCHASES_TRX                       0\n",
              "CREDIT_LIMIT                        0\n",
              "PAYMENTS                            0\n",
              "MINIMUM_PAYMENTS                    0\n",
              "PRC_FULL_PAYMENT                    0\n",
              "TENURE                              0\n",
              "dtype: int64"
            ]
          },
          "metadata": {},
          "execution_count": 9
        }
      ]
    },
    {
      "cell_type": "code",
      "source": [
        "mean1=df_cc['CREDIT_LIMIT'].mean()\n",
        "mean2=df_cc['MINIMUM_PAYMENTS'].mean()\n",
        "df_cc['CREDIT_LIMIT'].fillna(value=mean1, inplace=True)   # replacing null values with mean of a column\n",
        "df_cc['MINIMUM_PAYMENTS'].fillna(value=mean2, inplace=True)"
      ],
      "metadata": {
        "id": "lJyjK6PIpxgJ"
      },
      "execution_count": 11,
      "outputs": []
    },
    {
      "cell_type": "code",
      "source": [
        "X_cc = df_cc.drop(columns=['CUST_ID'])"
      ],
      "metadata": {
        "id": "Ds1DvxhDp2pl"
      },
      "execution_count": 12,
      "outputs": []
    },
    {
      "cell_type": "code",
      "source": [
        "# Standardize the data\n",
        "scaler = StandardScaler()\n",
        "X_scaled = scaler.fit_transform(X_cc)\n",
        "\n",
        "# Apply PCA\n",
        "pca = PCA(n_components=2)\n",
        "X_pca = pca.fit_transform(X_scaled)"
      ],
      "metadata": {
        "id": "ehhL7w2Np_A2"
      },
      "execution_count": 13,
      "outputs": []
    },
    {
      "cell_type": "code",
      "source": [
        "# Explained variance ratio\n",
        "explained_variance = pca.explained_variance_ratio_\n",
        "print(\"Explained variance ratio:\", explained_variance)"
      ],
      "metadata": {
        "colab": {
          "base_uri": "https://localhost:8080/"
        },
        "id": "9QrQVk-1qqGF",
        "outputId": "ae06d9b4-b0c4-4da0-f6be-2c8927cb3f61"
      },
      "execution_count": 14,
      "outputs": [
        {
          "output_type": "stream",
          "name": "stdout",
          "text": [
            "Explained variance ratio: [0.27231177 0.20374308]\n"
          ]
        }
      ]
    },
    {
      "cell_type": "code",
      "source": [],
      "metadata": {
        "id": "tkb5SAwvqtY3"
      },
      "execution_count": null,
      "outputs": []
    },
    {
      "cell_type": "markdown",
      "source": [
        "### b. Apply k-means algorithm on the PCA result and report your observation if the silhouette score has improved or not?"
      ],
      "metadata": {
        "id": "pjf0v8TdrMY8"
      }
    },
    {
      "cell_type": "code",
      "source": [
        "from sklearn.cluster import KMeans\n",
        "from sklearn.metrics import silhouette_score\n",
        "\n",
        "# Apply K-Means clustering on the PCA result\n",
        "nclusters = 3  # Number of clusters\n",
        "km = KMeans(n_clusters=nclusters)\n",
        "clusters = km.fit_predict(X_pca)"
      ],
      "metadata": {
        "id": "CUk3jfrbrPfu"
      },
      "execution_count": 16,
      "outputs": []
    },
    {
      "cell_type": "code",
      "source": [
        "# Calculate silhouette score\n",
        "silhouette_avg = silhouette_score(X_pca, clusters)\n",
        "print(\"Silhouette score after PCA:\", silhouette_avg)"
      ],
      "metadata": {
        "colab": {
          "base_uri": "https://localhost:8080/"
        },
        "id": "nkse60forSI3",
        "outputId": "a16ce5c5-bf93-4dcb-a26d-451577874533"
      },
      "execution_count": 17,
      "outputs": [
        {
          "output_type": "stream",
          "name": "stdout",
          "text": [
            "Silhouette score after PCA: 0.44553765186851874\n"
          ]
        }
      ]
    },
    {
      "cell_type": "markdown",
      "source": [
        "### c. Perform Scaling+PCA+K-Means and report performance"
      ],
      "metadata": {
        "id": "YvD1D4RYrfkb"
      }
    },
    {
      "cell_type": "code",
      "source": [
        "# Standardization\n",
        "X_scaled = scaler.fit_transform(X_cc)\n",
        "\n",
        "# PCA\n",
        "X_pca = pca.fit_transform(X_scaled)\n",
        "\n",
        "# K-Means clustering\n",
        "clusters = km.fit_predict(X_pca)\n",
        "\n",
        "# Silhouette score\n",
        "silhouette_avg = silhouette_score(X_pca, clusters)\n",
        "print(\"Silhouette score with Scaling+PCA+K-Means:\", silhouette_avg)"
      ],
      "metadata": {
        "colab": {
          "base_uri": "https://localhost:8080/"
        },
        "id": "-IDSLAGkrg8O",
        "outputId": "5983a712-8bf5-4f0e-a3df-02621d03644c"
      },
      "execution_count": 18,
      "outputs": [
        {
          "output_type": "stream",
          "name": "stdout",
          "text": [
            "Silhouette score with Scaling+PCA+K-Means: 0.4469810965401259\n"
          ]
        }
      ]
    },
    {
      "cell_type": "markdown",
      "source": [
        "## 2. Use pd_speech_features.csv"
      ],
      "metadata": {
        "id": "VWfD_B6JsDpB"
      }
    },
    {
      "cell_type": "markdown",
      "source": [
        "### a. Perform Scaling"
      ],
      "metadata": {
        "id": "zuA4sxH8sGGT"
      }
    },
    {
      "cell_type": "code",
      "source": [
        "# Load the pd_speech_features dataset\n",
        "df_speech = pd.read_csv('pd_speech_features.csv')\n",
        "\n",
        "# Extract features and labels\n",
        "X_speech = df_speech.drop(columns=['class'])\n",
        "y_speech = df_speech['class']\n",
        "\n",
        "# Standardize the data\n",
        "scaler = StandardScaler()\n",
        "X_scaled = scaler.fit_transform(X_speech)"
      ],
      "metadata": {
        "id": "SGGeGSYrsKq6"
      },
      "execution_count": 19,
      "outputs": []
    },
    {
      "cell_type": "markdown",
      "source": [
        "### b. Apply PCA (k=3)"
      ],
      "metadata": {
        "id": "FooixrBMsOzp"
      }
    },
    {
      "cell_type": "code",
      "source": [
        "# Apply PCA with k=3\n",
        "pca = PCA(n_components=3)\n",
        "X_pca_speech = pca.fit_transform(X_scaled)"
      ],
      "metadata": {
        "id": "Nr3xvRmQsP2i"
      },
      "execution_count": 20,
      "outputs": []
    },
    {
      "cell_type": "markdown",
      "source": [
        "### c. Use SVM to report performance"
      ],
      "metadata": {
        "id": "6Q_8_akUsSv-"
      }
    },
    {
      "cell_type": "code",
      "source": [
        "from sklearn.model_selection import train_test_split\n",
        "from sklearn.svm import SVC\n",
        "from sklearn.metrics import accuracy_score, classification_report\n",
        "\n",
        "# Split the data\n",
        "X_train, X_test, y_train, y_test = train_test_split(X_pca_speech, y_speech, test_size=0.3, random_state=42)\n",
        "\n",
        "# Train SVM\n",
        "svm = SVC()\n",
        "svm.fit(X_train, y_train)\n",
        "\n",
        "# Predict\n",
        "y_pred = svm.predict(X_test)\n",
        "\n",
        "# Report performance\n",
        "accuracy = accuracy_score(y_test, y_pred)\n",
        "report = classification_report(y_test, y_pred)\n",
        "print(\"SVM Accuracy:\", accuracy)\n",
        "print(\"Classification Report:\\n\", report)"
      ],
      "metadata": {
        "colab": {
          "base_uri": "https://localhost:8080/"
        },
        "id": "um_gw1_zsTqf",
        "outputId": "6ff46f72-9476-4701-b7db-b9e2a9cf80b3"
      },
      "execution_count": 21,
      "outputs": [
        {
          "output_type": "stream",
          "name": "stdout",
          "text": [
            "SVM Accuracy: 0.7973568281938326\n",
            "Classification Report:\n",
            "               precision    recall  f1-score   support\n",
            "\n",
            "           0       0.73      0.39      0.51        61\n",
            "           1       0.81      0.95      0.87       166\n",
            "\n",
            "    accuracy                           0.80       227\n",
            "   macro avg       0.77      0.67      0.69       227\n",
            "weighted avg       0.79      0.80      0.78       227\n",
            "\n"
          ]
        }
      ]
    },
    {
      "cell_type": "markdown",
      "source": [
        "## 3. Apply Linear Discriminant Analysis (LDA) on Iris.csv dataset to reduce dimensionality of data to k=2"
      ],
      "metadata": {
        "id": "e0vGVgL8smcy"
      }
    },
    {
      "cell_type": "code",
      "source": [
        "from sklearn.discriminant_analysis import LinearDiscriminantAnalysis\n",
        "\n",
        "# Load the Iris dataset\n",
        "df_iris = pd.read_csv('Iris.csv')\n",
        "\n",
        "# Extract features and labels\n",
        "X_iris = df_iris.drop(columns=['Id', 'Species'])\n",
        "y_iris = df_iris['Species']\n",
        "\n",
        "# Apply LDA\n",
        "lda = LinearDiscriminantAnalysis(n_components=2)\n",
        "X_lda = lda.fit_transform(X_iris, y_iris)\n",
        "\n",
        "print(\"Explained variance ratio:\", lda.explained_variance_ratio_)"
      ],
      "metadata": {
        "colab": {
          "base_uri": "https://localhost:8080/"
        },
        "id": "QDFCwv0ksnHu",
        "outputId": "0dd472e5-90a8-4f31-b4bd-d9bb116bde86"
      },
      "execution_count": 22,
      "outputs": [
        {
          "output_type": "stream",
          "name": "stdout",
          "text": [
            "Explained variance ratio: [0.99147248 0.00852752]\n"
          ]
        }
      ]
    },
    {
      "cell_type": "code",
      "source": [],
      "metadata": {
        "id": "rCs3oPmispzk"
      },
      "execution_count": null,
      "outputs": []
    }
  ]
}